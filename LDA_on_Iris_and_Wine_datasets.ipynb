{
  "nbformat": 4,
  "nbformat_minor": 0,
  "metadata": {
    "colab": {
      "provenance": []
    },
    "kernelspec": {
      "name": "python3",
      "display_name": "Python 3"
    },
    "language_info": {
      "name": "python"
    }
  },
  "cells": [
    {
      "cell_type": "code",
      "source": [
        "import numpy as np\n",
        "import pandas as pd\n",
        "import matplotlib.pyplot as plt\n",
        "import sklearn\n",
        "from sklearn.model_selection import train_test_split\n",
        "from sklearn.preprocessing import StandardScaler\n",
        "from sklearn.discriminant_analysis import LinearDiscriminantAnalysis\n",
        "from sklearn.metrics import accuracy_score, classification_report"
      ],
      "metadata": {
        "id": "28iZajV_WR3_"
      },
      "execution_count": 1,
      "outputs": []
    },
    {
      "cell_type": "markdown",
      "source": [
        "# LDA on Iris Dataset"
      ],
      "metadata": {
        "id": "tSvfYwFbYFkz"
      }
    },
    {
      "cell_type": "code",
      "source": [
        "# Load the Iris dataset\n",
        "iris = sklearn.datasets.load_iris()\n",
        "X = iris.data\n",
        "y = iris.target"
      ],
      "metadata": {
        "id": "sOOWfd28WVjE"
      },
      "execution_count": 2,
      "outputs": []
    },
    {
      "cell_type": "code",
      "source": [
        "X.shape"
      ],
      "metadata": {
        "colab": {
          "base_uri": "https://localhost:8080/"
        },
        "id": "yEs2mg1ucNRM",
        "outputId": "764edbd4-e4a1-48d4-c198-6b1d2cda841c"
      },
      "execution_count": 3,
      "outputs": [
        {
          "output_type": "execute_result",
          "data": {
            "text/plain": [
              "(150, 4)"
            ]
          },
          "metadata": {},
          "execution_count": 3
        }
      ]
    },
    {
      "cell_type": "code",
      "source": [
        "iris.feature_names"
      ],
      "metadata": {
        "colab": {
          "base_uri": "https://localhost:8080/"
        },
        "id": "iKr5J6zmd9p7",
        "outputId": "2ea4d737-5bad-466f-961d-0c80fa92448b"
      },
      "execution_count": 4,
      "outputs": [
        {
          "output_type": "execute_result",
          "data": {
            "text/plain": [
              "['sepal length (cm)',\n",
              " 'sepal width (cm)',\n",
              " 'petal length (cm)',\n",
              " 'petal width (cm)']"
            ]
          },
          "metadata": {},
          "execution_count": 4
        }
      ]
    },
    {
      "cell_type": "code",
      "source": [
        "iris_class_counts = pd.Series(y).value_counts()\n",
        "iris_class_counts"
      ],
      "metadata": {
        "colab": {
          "base_uri": "https://localhost:8080/",
          "height": 178
        },
        "id": "RF7qaA2Pb0oK",
        "outputId": "4735a71c-c6ba-48d3-f626-1b72489c8fd2"
      },
      "execution_count": 5,
      "outputs": [
        {
          "output_type": "execute_result",
          "data": {
            "text/plain": [
              "0    50\n",
              "1    50\n",
              "2    50\n",
              "Name: count, dtype: int64"
            ],
            "text/html": [
              "<div>\n",
              "<style scoped>\n",
              "    .dataframe tbody tr th:only-of-type {\n",
              "        vertical-align: middle;\n",
              "    }\n",
              "\n",
              "    .dataframe tbody tr th {\n",
              "        vertical-align: top;\n",
              "    }\n",
              "\n",
              "    .dataframe thead th {\n",
              "        text-align: right;\n",
              "    }\n",
              "</style>\n",
              "<table border=\"1\" class=\"dataframe\">\n",
              "  <thead>\n",
              "    <tr style=\"text-align: right;\">\n",
              "      <th></th>\n",
              "      <th>count</th>\n",
              "    </tr>\n",
              "  </thead>\n",
              "  <tbody>\n",
              "    <tr>\n",
              "      <th>0</th>\n",
              "      <td>50</td>\n",
              "    </tr>\n",
              "    <tr>\n",
              "      <th>1</th>\n",
              "      <td>50</td>\n",
              "    </tr>\n",
              "    <tr>\n",
              "      <th>2</th>\n",
              "      <td>50</td>\n",
              "    </tr>\n",
              "  </tbody>\n",
              "</table>\n",
              "</div><br><label><b>dtype:</b> int64</label>"
            ]
          },
          "metadata": {},
          "execution_count": 5
        }
      ]
    },
    {
      "cell_type": "markdown",
      "source": [
        "- Iris dataset has 150 observations with 4 features and 3 classes\n",
        "- Classes: 0 (Setosa), 1 (Versicolor), 2 (Virginica)"
      ],
      "metadata": {
        "id": "Kv4DW24vWVKa"
      }
    },
    {
      "cell_type": "code",
      "source": [
        "# Split into training and testing sets\n",
        "X_train, X_test, y_train, y_test = train_test_split(X, y, test_size=0.3, random_state=42)\n",
        "\n",
        "# Standardize the data\n",
        "scaler = StandardScaler()\n",
        "X_train = scaler.fit_transform(X_train)\n",
        "X_test = scaler.transform(X_test)"
      ],
      "metadata": {
        "id": "dmaqXkvQWjtN"
      },
      "execution_count": 6,
      "outputs": []
    },
    {
      "cell_type": "markdown",
      "source": [
        "# Apply Linear Discriminant Analysis"
      ],
      "metadata": {
        "id": "6ocgYeW2WltU"
      }
    },
    {
      "cell_type": "code",
      "source": [
        "# Apply LDA - Set n_components=2 2D) for visualization\n",
        "lda = LinearDiscriminantAnalysis(n_components=2)\n",
        "X_train_lda = lda.fit_transform(X_train, y_train)\n",
        "X_test_lda = lda.transform(X_test)\n",
        "\n",
        "# Train a classifier using LDA features\n",
        "lda_classifier = LinearDiscriminantAnalysis()\n",
        "lda_classifier.fit(X_train_lda, y_train)\n",
        "\n",
        "# Predict on test data\n",
        "y_pred = lda_classifier.predict(X_test_lda)"
      ],
      "metadata": {
        "id": "OTyNyTpFWlet"
      },
      "execution_count": 7,
      "outputs": []
    },
    {
      "cell_type": "code",
      "source": [
        "# Evaluate performance\n",
        "accuracy = accuracy_score(y_test, y_pred)\n",
        "report = classification_report(y_test, y_pred, target_names=iris.target_names)"
      ],
      "metadata": {
        "id": "MLPCD42OWqoM"
      },
      "execution_count": 8,
      "outputs": []
    },
    {
      "cell_type": "code",
      "source": [
        "print(accuracy)"
      ],
      "metadata": {
        "colab": {
          "base_uri": "https://localhost:8080/"
        },
        "id": "T8un8AZNXZkV",
        "outputId": "947fea17-ff27-441a-db66-b830da36f1a9"
      },
      "execution_count": 9,
      "outputs": [
        {
          "output_type": "stream",
          "name": "stdout",
          "text": [
            "1.0\n"
          ]
        }
      ]
    },
    {
      "cell_type": "markdown",
      "source": [
        "The LDA model correctly classified all test samples without any misclassification."
      ],
      "metadata": {
        "id": "qdXnhMAvXuPk"
      }
    },
    {
      "cell_type": "code",
      "execution_count": 10,
      "metadata": {
        "colab": {
          "base_uri": "https://localhost:8080/"
        },
        "id": "rL30QxPAWMh4",
        "outputId": "acd583c3-ac54-40d8-9ab1-d0767da7863c"
      },
      "outputs": [
        {
          "output_type": "stream",
          "name": "stdout",
          "text": [
            "              precision    recall  f1-score   support\n",
            "\n",
            "      setosa       1.00      1.00      1.00        19\n",
            "  versicolor       1.00      1.00      1.00        13\n",
            "   virginica       1.00      1.00      1.00        13\n",
            "\n",
            "    accuracy                           1.00        45\n",
            "   macro avg       1.00      1.00      1.00        45\n",
            "weighted avg       1.00      1.00      1.00        45\n",
            "\n"
          ]
        }
      ],
      "source": [
        "# Display classification report\n",
        "print(report)"
      ]
    },
    {
      "cell_type": "markdown",
      "source": [
        "- Precision & Recall of 1.00 means zero false positives and zero false negatives.\n",
        "- Macro & Weighted Averages are also 1.00, confirming strong overall performance.\n",
        "\n",
        "LDA performed exceptionally well on the Iris dataset, likely because the classes are well-separated in feature space."
      ],
      "metadata": {
        "id": "GpBHSNAfXvru"
      }
    },
    {
      "cell_type": "code",
      "source": [
        "# Visualizing LDA projection\n",
        "plt.figure(figsize=(8, 6))\n",
        "colors = ['r', 'g', 'b']\n",
        "labels = ['Setosa', 'Versicolor', 'Virginica']\n",
        "\n",
        "for i in range(3):\n",
        "    plt.scatter(X_train_lda[y_train == i, 0], X_train_lda[y_train == i, 1],\n",
        "                color=colors[i], label=labels[i], alpha=0.6, edgecolors='k')\n",
        "\n",
        "plt.xlabel('LDA Component 1')\n",
        "plt.ylabel('LDA Component 2')\n",
        "plt.title('LDA Projection of Iris Dataset')\n",
        "plt.legend()\n",
        "plt.grid()\n",
        "plt.show()"
      ],
      "metadata": {
        "colab": {
          "base_uri": "https://localhost:8080/",
          "height": 564
        },
        "id": "9zehE-msWsvr",
        "outputId": "bb88e3d2-8702-4e27-c066-46bc7ab0b20a"
      },
      "execution_count": 11,
      "outputs": [
        {
          "output_type": "display_data",
          "data": {
            "text/plain": [
              "<Figure size 800x600 with 1 Axes>"
            ],
            "image/png": "[encoded data removed]"
          },
          "metadata": {}
        }
      ]
    },
    {
      "cell_type": "markdown",
      "source": [
        "# LDA on Wine Dataset"
      ],
      "metadata": {
        "id": "bRWz85qMZE7E"
      }
    },
    {
      "cell_type": "code",
      "source": [
        "# Load the dataset\n",
        "wine = sklearn.datasets.load_wine()\n",
        "X_wine = wine.data\n",
        "y_wine = wine.target"
      ],
      "metadata": {
        "id": "eb2KfbqHZJRs"
      },
      "execution_count": 12,
      "outputs": []
    },
    {
      "cell_type": "code",
      "source": [
        "X_wine.shape"
      ],
      "metadata": {
        "colab": {
          "base_uri": "https://localhost:8080/"
        },
        "id": "p65ly9w3bUNM",
        "outputId": "951e444c-1bec-4c51-be11-8c4dc9a8a6d6"
      },
      "execution_count": 13,
      "outputs": [
        {
          "output_type": "execute_result",
          "data": {
            "text/plain": [
              "(178, 13)"
            ]
          },
          "metadata": {},
          "execution_count": 13
        }
      ]
    },
    {
      "cell_type": "code",
      "source": [
        "wine.feature_names"
      ],
      "metadata": {
        "colab": {
          "base_uri": "https://localhost:8080/"
        },
        "id": "7N-DTcSreI5c",
        "outputId": "3ada6ef1-66c2-4d54-f53f-bb3580d300fa"
      },
      "execution_count": 14,
      "outputs": [
        {
          "output_type": "execute_result",
          "data": {
            "text/plain": [
              "['alcohol',\n",
              " 'malic_acid',\n",
              " 'ash',\n",
              " 'alcalinity_of_ash',\n",
              " 'magnesium',\n",
              " 'total_phenols',\n",
              " 'flavanoids',\n",
              " 'nonflavanoid_phenols',\n",
              " 'proanthocyanins',\n",
              " 'color_intensity',\n",
              " 'hue',\n",
              " 'od280/od315_of_diluted_wines',\n",
              " 'proline']"
            ]
          },
          "metadata": {},
          "execution_count": 14
        }
      ]
    },
    {
      "cell_type": "code",
      "source": [
        "wine_class_counts = pd.Series(y_wine).value_counts()\n",
        "wine_class_counts"
      ],
      "metadata": {
        "colab": {
          "base_uri": "https://localhost:8080/",
          "height": 178
        },
        "id": "TvKRIsK3bcRU",
        "outputId": "0db71682-97dd-43c0-fb76-d3ea42087360"
      },
      "execution_count": 15,
      "outputs": [
        {
          "output_type": "execute_result",
          "data": {
            "text/plain": [
              "1    71\n",
              "0    59\n",
              "2    48\n",
              "Name: count, dtype: int64"
            ],
            "text/html": [
              "<div>\n",
              "<style scoped>\n",
              "    .dataframe tbody tr th:only-of-type {\n",
              "        vertical-align: middle;\n",
              "    }\n",
              "\n",
              "    .dataframe tbody tr th {\n",
              "        vertical-align: top;\n",
              "    }\n",
              "\n",
              "    .dataframe thead th {\n",
              "        text-align: right;\n",
              "    }\n",
              "</style>\n",
              "<table border=\"1\" class=\"dataframe\">\n",
              "  <thead>\n",
              "    <tr style=\"text-align: right;\">\n",
              "      <th></th>\n",
              "      <th>count</th>\n",
              "    </tr>\n",
              "  </thead>\n",
              "  <tbody>\n",
              "    <tr>\n",
              "      <th>1</th>\n",
              "      <td>71</td>\n",
              "    </tr>\n",
              "    <tr>\n",
              "      <th>0</th>\n",
              "      <td>59</td>\n",
              "    </tr>\n",
              "    <tr>\n",
              "      <th>2</th>\n",
              "      <td>48</td>\n",
              "    </tr>\n",
              "  </tbody>\n",
              "</table>\n",
              "</div><br><label><b>dtype:</b> int64</label>"
            ]
          },
          "metadata": {},
          "execution_count": 15
        }
      ]
    },
    {
      "cell_type": "markdown",
      "source": [
        "- Wine dataset has 178 observations, 13 features and 3 classes"
      ],
      "metadata": {
        "id": "lLsi6yBJbGaD"
      }
    },
    {
      "cell_type": "code",
      "source": [
        "# Split into training and testing sets\n",
        "X_train_wine, X_test_wine, y_train_wine, y_test_wine = train_test_split(X_wine, y_wine, test_size=0.3, random_state=42)\n",
        "\n",
        "# Standardize the data\n",
        "X_train_wine = scaler.fit_transform(X_train_wine)\n",
        "X_test_wine = scaler.transform(X_test_wine)"
      ],
      "metadata": {
        "id": "-ibexQWFZP77"
      },
      "execution_count": 16,
      "outputs": []
    },
    {
      "cell_type": "code",
      "source": [
        "# Apply LDA\n",
        "lda_wine = LinearDiscriminantAnalysis(n_components=2)  # Reduce to 2D for visualization\n",
        "X_train_wine_lda = lda_wine.fit_transform(X_train_wine, y_train_wine)\n",
        "X_test_wine_lda = lda_wine.transform(X_test_wine)"
      ],
      "metadata": {
        "id": "8TjqAWElZUZz"
      },
      "execution_count": 17,
      "outputs": []
    },
    {
      "cell_type": "code",
      "source": [
        "# Train a classifier using LDA features\n",
        "lda_classifier_wine = LinearDiscriminantAnalysis()\n",
        "lda_classifier_wine.fit(X_train_wine_lda, y_train_wine)\n",
        "\n",
        "# Predict on test data\n",
        "y_pred_wine = lda_classifier_wine.predict(X_test_wine_lda)"
      ],
      "metadata": {
        "id": "mtBw44yNZXlD"
      },
      "execution_count": 18,
      "outputs": []
    },
    {
      "cell_type": "code",
      "source": [
        "# Evaluate performance\n",
        "accuracy_wine = accuracy_score(y_test_wine, y_pred_wine)\n",
        "report_wine = classification_report(y_test_wine, y_pred_wine, target_names=wine.target_names)"
      ],
      "metadata": {
        "id": "0nfrK-AnZYbs"
      },
      "execution_count": 19,
      "outputs": []
    },
    {
      "cell_type": "code",
      "source": [
        "print(accuracy)"
      ],
      "metadata": {
        "colab": {
          "base_uri": "https://localhost:8080/"
        },
        "id": "AII1fwe5Zj_z",
        "outputId": "c0f89018-a43a-4dfa-c094-804f4fb69a50"
      },
      "execution_count": 20,
      "outputs": [
        {
          "output_type": "stream",
          "name": "stdout",
          "text": [
            "1.0\n"
          ]
        }
      ]
    },
    {
      "cell_type": "code",
      "source": [
        "# Display results\n",
        "print(report_wine)"
      ],
      "metadata": {
        "colab": {
          "base_uri": "https://localhost:8080/"
        },
        "id": "jwaTsuKaZaoj",
        "outputId": "f9251a4d-bb52-4cb4-e3a3-08fb5379d40d"
      },
      "execution_count": 21,
      "outputs": [
        {
          "output_type": "stream",
          "name": "stdout",
          "text": [
            "              precision    recall  f1-score   support\n",
            "\n",
            "     class_0       1.00      1.00      1.00        19\n",
            "     class_1       1.00      1.00      1.00        21\n",
            "     class_2       1.00      1.00      1.00        14\n",
            "\n",
            "    accuracy                           1.00        54\n",
            "   macro avg       1.00      1.00      1.00        54\n",
            "weighted avg       1.00      1.00      1.00        54\n",
            "\n"
          ]
        }
      ]
    },
    {
      "cell_type": "code",
      "source": [
        "# Visualizing LDA projection\n",
        "plt.figure(figsize=(8, 6))\n",
        "colors = ['r', 'g', 'b']\n",
        "labels = wine.target_names\n",
        "\n",
        "for i in range(3):\n",
        "    plt.scatter(X_train_wine_lda[y_train_wine == i, 0], X_train_wine_lda[y_train_wine == i, 1],\n",
        "                color=colors[i], label=labels[i], alpha=0.6, edgecolors='k')\n",
        "\n",
        "plt.xlabel('LDA Component 1')\n",
        "plt.ylabel('LDA Component 2')\n",
        "plt.title('LDA Projection of Wine Dataset')\n",
        "plt.legend()\n",
        "plt.grid()\n",
        "plt.show()"
      ],
      "metadata": {
        "colab": {
          "base_uri": "https://localhost:8080/",
          "height": 564
        },
        "id": "iBhsR53BW08A",
        "outputId": "560fe726-e2b3-48bf-953b-27c4dfc0f87b"
      },
      "execution_count": 22,
      "outputs": [
        {
          "output_type": "display_data",
          "data": {
            "text/plain": [
              "<Figure size 800x600 with 1 Axes>"
            ],
            "image/png": "[encoded data removed]"
          },
          "metadata": {}
        }
      ]
    },
    {
      "cell_type": "markdown",
      "source": [
        "- The scatter plot above shows the Wine dataset projected onto two LDA components.\n",
        "- The classes are well-separated, indicating that LDA successfully reduced dimensionality while keeping distinct clusters"
      ],
      "metadata": {
        "id": "wJvd1Mb6ZpHi"
      }
    },
    {
      "cell_type": "markdown",
      "source": [
        "\n",
        "## Key Takeaways\n",
        "- LDA still performs perfectly on Sklearn's Wine dataset.\n",
        "- The classes were **clearly separable** in the transformed space.  \n",
        "- Dimensionality reduction (from 13D to 2D) preserved class information."
      ],
      "metadata": {
        "id": "tjjKttMRZ09v"
      }
    },
    {
      "cell_type": "code",
      "source": [],
      "metadata": {
        "id": "6Mew_i2uZp64"
      },
      "execution_count": 22,
      "outputs": []
    }
  ]
}